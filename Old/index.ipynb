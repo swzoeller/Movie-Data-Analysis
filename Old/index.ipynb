{
 "cells": [
  {
   "cell_type": "code",
   "execution_count": 1,
   "metadata": {
    "scrolled": true
   },
   "outputs": [
    {
     "name": "stdout",
     "output_type": "stream",
     "text": [
      "Collecting tmdbsimple\n",
      "  Downloading tmdbsimple-2.6.6-py3-none-any.whl (38 kB)\n",
      "Requirement already satisfied: requests in c:\\users\\swzoe\\anaconda3\\envs\\learn-env\\lib\\site-packages (from tmdbsimple) (2.24.0)\n",
      "Requirement already satisfied: certifi>=2017.4.17 in c:\\users\\swzoe\\anaconda3\\envs\\learn-env\\lib\\site-packages (from requests->tmdbsimple) (2020.6.20)\n",
      "Requirement already satisfied: idna<3,>=2.5 in c:\\users\\swzoe\\anaconda3\\envs\\learn-env\\lib\\site-packages (from requests->tmdbsimple) (2.10)\n",
      "Requirement already satisfied: chardet<4,>=3.0.2 in c:\\users\\swzoe\\anaconda3\\envs\\learn-env\\lib\\site-packages (from requests->tmdbsimple) (3.0.4)\n",
      "Requirement already satisfied: urllib3!=1.25.0,!=1.25.1,<1.26,>=1.21.1 in c:\\users\\swzoe\\anaconda3\\envs\\learn-env\\lib\\site-packages (from requests->tmdbsimple) (1.25.10)\n",
      "Installing collected packages: tmdbsimple\n",
      "Successfully installed tmdbsimple-2.6.6\n"
     ]
    }
   ],
   "source": [
    "!pip install tmdbsimple\n"
   ]
  },
  {
   "cell_type": "code",
   "execution_count": 3,
   "metadata": {},
   "outputs": [],
   "source": [
    "import tmdbsimple as tmdb\n",
    "from config import tmdb_api_key, tmdb_access_token"
   ]
  },
  {
   "cell_type": "code",
   "execution_count": 26,
   "metadata": {},
   "outputs": [
    {
     "data": {
      "text/plain": [
       "62.668"
      ]
     },
     "execution_count": 26,
     "metadata": {},
     "output_type": "execute_result"
    }
   ],
   "source": [
    "movie = tmdb.Movies(603)\n",
    "movie.info()\n",
    "movie.info()[\"popularity\"]"
   ]
  },
  {
   "cell_type": "code",
   "execution_count": 1,
   "metadata": {},
   "outputs": [],
   "source": [
    "import requests\n",
    "import pandas as pd\n",
    "import json\n",
    "from datetime import datetime\n",
    "from tmdb_company_ids import company_ids"
   ]
  },
  {
   "cell_type": "code",
   "execution_count": 31,
   "metadata": {},
   "outputs": [],
   "source": [
    "api_key = tmdb_api_key\n",
    "request_url = \"https://api.themoviedb.org/3/authentication/token/new?api_key=\"\n",
    "response = requests.get(request_url + api_key)"
   ]
  },
  {
   "cell_type": "code",
   "execution_count": 34,
   "metadata": {},
   "outputs": [
    {
     "data": {
      "text/plain": [
       "requests.models.Response"
      ]
     },
     "execution_count": 34,
     "metadata": {},
     "output_type": "execute_result"
    }
   ],
   "source": [
    "type(response)"
   ]
  },
  {
   "cell_type": "code",
   "execution_count": 32,
   "metadata": {},
   "outputs": [],
   "source": [
    "request_token = response.json()[\"request_token\"]\n",
    "session_url = \"https://www.themoviedb.org/authenticate/{}\".format(request_token)\n",
    "error = requests.get(session_url)"
   ]
  },
  {
   "cell_type": "code",
   "execution_count": 36,
   "metadata": {},
   "outputs": [
    {
     "data": {
      "text/plain": [
       "<Response [401]>"
      ]
     },
     "execution_count": 36,
     "metadata": {},
     "output_type": "execute_result"
    }
   ],
   "source": [
    "error"
   ]
  },
  {
   "cell_type": "code",
   "execution_count": 37,
   "metadata": {},
   "outputs": [
    {
     "data": {
      "text/plain": [
       "'29252842941e2744ae52792ce71d5b6d'"
      ]
     },
     "execution_count": 37,
     "metadata": {},
     "output_type": "execute_result"
    }
   ],
   "source": [
    "api_key"
   ]
  },
  {
   "cell_type": "code",
   "execution_count": 41,
   "metadata": {},
   "outputs": [],
   "source": [
    "release_start = \"2010-01-01\"\n",
    "url = \"https://api.themoviedb.org/3/discover/movie?api_key={}&language=en-US&sort_by=release_date.asc&include_adult=false&include_video=false&page=1&release_date.gte={}\".format(api_key, release_start)\n",
    "movies_after_2010 = requests.get(url)"
   ]
  },
  {
   "cell_type": "code",
   "execution_count": 100,
   "metadata": {},
   "outputs": [],
   "source": [
    "def search_request(n):\n",
    "    results = []\n",
    "    for i in range(0, n):\n",
    "        url = \"https://api.themoviedb.org/3/discover/movie?api_key={}&language=en-US&sort_by=primary_release_date.asc&include_adult=false&vote_count.gte=1&include_video=false&page={}&primary_release_date.gte=2010-01-01\".format(api_key, (i + 1))\n",
    "        response = requests.get(url).json()\n",
    "        results += response['results']\n",
    "    return pd.DataFrame(results)"
   ]
  },
  {
   "cell_type": "code",
   "execution_count": 101,
   "metadata": {},
   "outputs": [],
   "source": [
    "first_500 = search_request(500)"
   ]
  },
  {
   "cell_type": "code",
   "execution_count": 5,
   "metadata": {},
   "outputs": [],
   "source": [
    "ids = [x[\"id\"] for x in company_ids]"
   ]
  },
  {
   "cell_type": "code",
   "execution_count": 6,
   "metadata": {
    "scrolled": true
   },
   "outputs": [
    {
     "data": {
      "text/plain": [
       "[141598, 20580, 40457, 47712, 92403]"
      ]
     },
     "execution_count": 6,
     "metadata": {},
     "output_type": "execute_result"
    }
   ],
   "source": [
    "ids[:5]"
   ]
  },
  {
   "cell_type": "code",
   "execution_count": 7,
   "metadata": {},
   "outputs": [
    {
     "data": {
      "text/plain": [
       "[{'id': 141598, 'name': 'Netflix'},\n",
       " {'id': 20580, 'name': 'Amazon Studios'},\n",
       " {'id': 40457, 'name': 'Amazon Productions'},\n",
       " {'id': 47712, 'name': 'Amazon Entertainment Sdn Bhd'},\n",
       " {'id': 92403, 'name': 'Amazon Seller Services PVT LTD'}]"
      ]
     },
     "execution_count": 7,
     "metadata": {},
     "output_type": "execute_result"
    }
   ],
   "source": [
    "company_ids[:5]"
   ]
  }
 ],
 "metadata": {
  "kernelspec": {
   "display_name": "Python 3",
   "language": "python",
   "name": "python3"
  },
  "language_info": {
   "codemirror_mode": {
    "name": "ipython",
    "version": 3
   },
   "file_extension": ".py",
   "mimetype": "text/x-python",
   "name": "python",
   "nbconvert_exporter": "python",
   "pygments_lexer": "ipython3",
   "version": "3.6.9"
  }
 },
 "nbformat": 4,
 "nbformat_minor": 4
}
