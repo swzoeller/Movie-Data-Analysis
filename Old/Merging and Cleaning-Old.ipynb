{
 "cells": [
  {
   "cell_type": "code",
   "execution_count": 66,
   "metadata": {},
   "outputs": [],
   "source": [
    "import pandas as pd\n",
    "import json\n",
    "import numpy as np\n",
    "from config import tmdb_api_key\n",
    "import requests"
   ]
  },
  {
   "cell_type": "code",
   "execution_count": 6,
   "metadata": {},
   "outputs": [],
   "source": [
    "numbers_budget_df = pd.read_csv(\"tn.movie_budgets.csv\")"
   ]
  },
  {
   "cell_type": "code",
   "execution_count": 57,
   "metadata": {},
   "outputs": [],
   "source": [
    "tmdb_df = pd.read_csv(\"tmdb_df.csv\")"
   ]
  },
  {
   "cell_type": "code",
   "execution_count": 58,
   "metadata": {},
   "outputs": [
    {
     "data": {
      "text/plain": [
       "(5782, 7)"
      ]
     },
     "execution_count": 58,
     "metadata": {},
     "output_type": "execute_result"
    }
   ],
   "source": [
    "numbers_budget_df.shape"
   ]
  },
  {
   "cell_type": "code",
   "execution_count": 55,
   "metadata": {},
   "outputs": [],
   "source": [
    "numbers_budget_df.to_csv(\"numbers_budget_df.csv\", index=False)"
   ]
  },
  {
   "cell_type": "code",
   "execution_count": 59,
   "metadata": {},
   "outputs": [
    {
     "data": {
      "text/plain": [
       "(4776, 14)"
      ]
     },
     "execution_count": 59,
     "metadata": {},
     "output_type": "execute_result"
    }
   ],
   "source": [
    "tmdb_df.shape"
   ]
  },
  {
   "cell_type": "code",
   "execution_count": 10,
   "metadata": {},
   "outputs": [],
   "source": [
    "numbers_budget_df.rename(columns={'movie':'title'}, inplace=True)"
   ]
  },
  {
   "cell_type": "code",
   "execution_count": 54,
   "metadata": {},
   "outputs": [
    {
     "data": {
      "text/html": [
       "<div>\n",
       "<style scoped>\n",
       "    .dataframe tbody tr th:only-of-type {\n",
       "        vertical-align: middle;\n",
       "    }\n",
       "\n",
       "    .dataframe tbody tr th {\n",
       "        vertical-align: top;\n",
       "    }\n",
       "\n",
       "    .dataframe thead th {\n",
       "        text-align: right;\n",
       "    }\n",
       "</style>\n",
       "<table border=\"1\" class=\"dataframe\">\n",
       "  <thead>\n",
       "    <tr style=\"text-align: right;\">\n",
       "      <th></th>\n",
       "      <th>id</th>\n",
       "      <th>release_date</th>\n",
       "      <th>title</th>\n",
       "      <th>production_budget</th>\n",
       "      <th>domestic_gross</th>\n",
       "      <th>worldwide_gross</th>\n",
       "      <th>year</th>\n",
       "    </tr>\n",
       "  </thead>\n",
       "  <tbody>\n",
       "    <tr>\n",
       "      <th>3014</th>\n",
       "      <td>15</td>\n",
       "      <td>Aug 31, 2007</td>\n",
       "      <td>Halloween</td>\n",
       "      <td>$15,000,000</td>\n",
       "      <td>$58,269,151</td>\n",
       "      <td>$77,514,401</td>\n",
       "      <td>2007</td>\n",
       "    </tr>\n",
       "    <tr>\n",
       "      <th>3535</th>\n",
       "      <td>36</td>\n",
       "      <td>Oct 19, 2018</td>\n",
       "      <td>Halloween</td>\n",
       "      <td>$10,000,000</td>\n",
       "      <td>$159,342,015</td>\n",
       "      <td>$254,900,667</td>\n",
       "      <td>2018</td>\n",
       "    </tr>\n",
       "    <tr>\n",
       "      <th>5536</th>\n",
       "      <td>37</td>\n",
       "      <td>Oct 17, 1978</td>\n",
       "      <td>Halloween</td>\n",
       "      <td>$325,000</td>\n",
       "      <td>$47,000,000</td>\n",
       "      <td>$70,000,000</td>\n",
       "      <td>1978</td>\n",
       "    </tr>\n",
       "  </tbody>\n",
       "</table>\n",
       "</div>"
      ],
      "text/plain": [
       "      id  release_date      title production_budget domestic_gross  \\\n",
       "3014  15  Aug 31, 2007  Halloween       $15,000,000    $58,269,151   \n",
       "3535  36  Oct 19, 2018  Halloween       $10,000,000   $159,342,015   \n",
       "5536  37  Oct 17, 1978  Halloween          $325,000    $47,000,000   \n",
       "\n",
       "     worldwide_gross  year  \n",
       "3014     $77,514,401  2007  \n",
       "3535    $254,900,667  2018  \n",
       "5536     $70,000,000  1978  "
      ]
     },
     "execution_count": 54,
     "metadata": {},
     "output_type": "execute_result"
    }
   ],
   "source": [
    "numbers_budget_df[numbers_budget_df[\"title\"] == \"Halloween\"]"
   ]
  },
  {
   "cell_type": "code",
   "execution_count": 13,
   "metadata": {},
   "outputs": [],
   "source": [
    "temp_df = numbers_budget_df.merge(tmdb_df, on='title', how='inner')"
   ]
  },
  {
   "cell_type": "code",
   "execution_count": 24,
   "metadata": {},
   "outputs": [
    {
     "data": {
      "text/plain": [
       "Home                         9\n",
       "Halloween                    9\n",
       "King Kong                    9\n",
       "Total Recall                 4\n",
       "Twilight                     4\n",
       "                            ..\n",
       "The Signal                   4\n",
       "The Birth of a Nation        4\n",
       "A Nightmare on Elm Street    4\n",
       "The Calling                  4\n",
       "Carrie                       4\n",
       "Name: title, Length: 70, dtype: int64"
      ]
     },
     "execution_count": 24,
     "metadata": {},
     "output_type": "execute_result"
    }
   ],
   "source": [
    "temp_df[\"title\"].value_counts().head(70)"
   ]
  },
  {
   "cell_type": "code",
   "execution_count": 32,
   "metadata": {},
   "outputs": [
    {
     "data": {
      "text/plain": [
       "'2009-12-10'"
      ]
     },
     "execution_count": 32,
     "metadata": {},
     "output_type": "execute_result"
    }
   ],
   "source": [
    "tmdb_df[\"release_date\"][0]"
   ]
  },
  {
   "cell_type": "code",
   "execution_count": 34,
   "metadata": {},
   "outputs": [
    {
     "data": {
      "text/plain": [
       "'2009'"
      ]
     },
     "execution_count": 34,
     "metadata": {},
     "output_type": "execute_result"
    }
   ],
   "source": [
    "tmdb_df[\"release_date\"][0][:4]"
   ]
  },
  {
   "cell_type": "code",
   "execution_count": 61,
   "metadata": {},
   "outputs": [],
   "source": [
    "tmdb_df['year'] = tmdb_df[\"release_date\"].map(lambda x: str(x)[:4])"
   ]
  },
  {
   "cell_type": "code",
   "execution_count": 46,
   "metadata": {},
   "outputs": [],
   "source": [
    "numbers_budget_df['year'] = numbers_budget_df[\"release_date\"].map(lambda x: str(x)[-4:])"
   ]
  },
  {
   "cell_type": "code",
   "execution_count": 48,
   "metadata": {},
   "outputs": [
    {
     "name": "stdout",
     "output_type": "stream",
     "text": [
      "<class 'pandas.core.frame.DataFrame'>\n",
      "RangeIndex: 5782 entries, 0 to 5781\n",
      "Data columns (total 7 columns):\n",
      "id                   5782 non-null int64\n",
      "release_date         5782 non-null object\n",
      "title                5782 non-null object\n",
      "production_budget    5782 non-null object\n",
      "domestic_gross       5782 non-null object\n",
      "worldwide_gross      5782 non-null object\n",
      "year                 5782 non-null object\n",
      "dtypes: int64(1), object(6)\n",
      "memory usage: 316.3+ KB\n"
     ]
    }
   ],
   "source": [
    "numbers_budget_df.info()"
   ]
  },
  {
   "cell_type": "code",
   "execution_count": 62,
   "metadata": {},
   "outputs": [],
   "source": [
    "temp_df2 = numbers_budget_df.merge(tmdb_df, on=['title', \"year\"], how='inner')"
   ]
  },
  {
   "cell_type": "code",
   "execution_count": 65,
   "metadata": {},
   "outputs": [
    {
     "data": {
      "text/html": [
       "<div>\n",
       "<style scoped>\n",
       "    .dataframe tbody tr th:only-of-type {\n",
       "        vertical-align: middle;\n",
       "    }\n",
       "\n",
       "    .dataframe tbody tr th {\n",
       "        vertical-align: top;\n",
       "    }\n",
       "\n",
       "    .dataframe thead th {\n",
       "        text-align: right;\n",
       "    }\n",
       "</style>\n",
       "<table border=\"1\" class=\"dataframe\">\n",
       "  <thead>\n",
       "    <tr style=\"text-align: right;\">\n",
       "      <th></th>\n",
       "      <th>id_x</th>\n",
       "      <th>release_date_x</th>\n",
       "      <th>title</th>\n",
       "      <th>production_budget</th>\n",
       "      <th>domestic_gross</th>\n",
       "      <th>worldwide_gross</th>\n",
       "      <th>year</th>\n",
       "      <th>popularity</th>\n",
       "      <th>vote_count</th>\n",
       "      <th>video</th>\n",
       "      <th>poster_path</th>\n",
       "      <th>id_y</th>\n",
       "      <th>adult</th>\n",
       "      <th>backdrop_path</th>\n",
       "      <th>original_language</th>\n",
       "      <th>original_title</th>\n",
       "      <th>genre_ids</th>\n",
       "      <th>vote_average</th>\n",
       "      <th>overview</th>\n",
       "      <th>release_date_y</th>\n",
       "    </tr>\n",
       "  </thead>\n",
       "  <tbody>\n",
       "    <tr>\n",
       "      <th>0</th>\n",
       "      <td>1</td>\n",
       "      <td>Dec 18, 2009</td>\n",
       "      <td>Avatar</td>\n",
       "      <td>$425,000,000</td>\n",
       "      <td>$760,507,625</td>\n",
       "      <td>$2,776,345,279</td>\n",
       "      <td>2009</td>\n",
       "      <td>81.649</td>\n",
       "      <td>22183</td>\n",
       "      <td>False</td>\n",
       "      <td>/6EiRUJpuoeQPghrs3YNktfnqOVh.jpg</td>\n",
       "      <td>19995</td>\n",
       "      <td>False</td>\n",
       "      <td>/bIL7ENqh1egWTxN41sM2W42JqPc.jpg</td>\n",
       "      <td>en</td>\n",
       "      <td>Avatar</td>\n",
       "      <td>[28, 12, 14, 878]</td>\n",
       "      <td>7.5</td>\n",
       "      <td>In the 22nd century, a paraplegic Marine is di...</td>\n",
       "      <td>2009-12-10</td>\n",
       "    </tr>\n",
       "    <tr>\n",
       "      <th>1</th>\n",
       "      <td>2</td>\n",
       "      <td>May 20, 2011</td>\n",
       "      <td>Pirates of the Caribbean: On Stranger Tides</td>\n",
       "      <td>$410,600,000</td>\n",
       "      <td>$241,063,875</td>\n",
       "      <td>$1,045,663,875</td>\n",
       "      <td>2011</td>\n",
       "      <td>49.185</td>\n",
       "      <td>10310</td>\n",
       "      <td>False</td>\n",
       "      <td>/9zxsSzXx2UO3yNoS4j97vs4uOhc.jpg</td>\n",
       "      <td>1865</td>\n",
       "      <td>False</td>\n",
       "      <td>/bfTKq6mGHt2CzZlBU31JHF9bMog.jpg</td>\n",
       "      <td>en</td>\n",
       "      <td>Pirates of the Caribbean: On Stranger Tides</td>\n",
       "      <td>[28, 12, 14]</td>\n",
       "      <td>6.5</td>\n",
       "      <td>Captain Jack Sparrow crosses paths with a woma...</td>\n",
       "      <td>2011-05-14</td>\n",
       "    </tr>\n",
       "    <tr>\n",
       "      <th>2</th>\n",
       "      <td>3</td>\n",
       "      <td>Jun 7, 2019</td>\n",
       "      <td>Dark Phoenix</td>\n",
       "      <td>$350,000,000</td>\n",
       "      <td>$42,762,350</td>\n",
       "      <td>$149,762,350</td>\n",
       "      <td>2019</td>\n",
       "      <td>122.894</td>\n",
       "      <td>3997</td>\n",
       "      <td>False</td>\n",
       "      <td>/cCTJPelKGLhALq3r51A9uMonxKj.jpg</td>\n",
       "      <td>320288</td>\n",
       "      <td>False</td>\n",
       "      <td>/phxiKFDvPeQj4AbkvJLmuZEieDU.jpg</td>\n",
       "      <td>en</td>\n",
       "      <td>Dark Phoenix</td>\n",
       "      <td>[28, 12, 878]</td>\n",
       "      <td>6.1</td>\n",
       "      <td>The X-Men face their most formidable and power...</td>\n",
       "      <td>2019-06-05</td>\n",
       "    </tr>\n",
       "    <tr>\n",
       "      <th>3</th>\n",
       "      <td>4</td>\n",
       "      <td>May 1, 2015</td>\n",
       "      <td>Avengers: Age of Ultron</td>\n",
       "      <td>$330,600,000</td>\n",
       "      <td>$459,005,868</td>\n",
       "      <td>$1,403,013,963</td>\n",
       "      <td>2015</td>\n",
       "      <td>77.916</td>\n",
       "      <td>16653</td>\n",
       "      <td>False</td>\n",
       "      <td>/4ssDuvEDkSArWEdyBl2X5EHvYKU.jpg</td>\n",
       "      <td>99861</td>\n",
       "      <td>False</td>\n",
       "      <td>/8i6ZDk97Vyh0jHohMG4vFeFuKJh.jpg</td>\n",
       "      <td>en</td>\n",
       "      <td>Avengers: Age of Ultron</td>\n",
       "      <td>[28, 12, 878]</td>\n",
       "      <td>7.3</td>\n",
       "      <td>When Tony Stark tries to jumpstart a dormant p...</td>\n",
       "      <td>2015-04-22</td>\n",
       "    </tr>\n",
       "    <tr>\n",
       "      <th>4</th>\n",
       "      <td>7</td>\n",
       "      <td>Apr 27, 2018</td>\n",
       "      <td>Avengers: Infinity War</td>\n",
       "      <td>$300,000,000</td>\n",
       "      <td>$678,815,482</td>\n",
       "      <td>$2,048,134,200</td>\n",
       "      <td>2018</td>\n",
       "      <td>240.150</td>\n",
       "      <td>19926</td>\n",
       "      <td>False</td>\n",
       "      <td>/7WsyChQLEftFiDOVTGkv3hFpyyt.jpg</td>\n",
       "      <td>299536</td>\n",
       "      <td>False</td>\n",
       "      <td>/lmZFxXgJE3vgrciwuDib0N8CfQo.jpg</td>\n",
       "      <td>en</td>\n",
       "      <td>Avengers: Infinity War</td>\n",
       "      <td>[28, 12, 878]</td>\n",
       "      <td>8.3</td>\n",
       "      <td>As the Avengers and their allies have continue...</td>\n",
       "      <td>2018-04-25</td>\n",
       "    </tr>\n",
       "    <tr>\n",
       "      <th>...</th>\n",
       "      <td>...</td>\n",
       "      <td>...</td>\n",
       "      <td>...</td>\n",
       "      <td>...</td>\n",
       "      <td>...</td>\n",
       "      <td>...</td>\n",
       "      <td>...</td>\n",
       "      <td>...</td>\n",
       "      <td>...</td>\n",
       "      <td>...</td>\n",
       "      <td>...</td>\n",
       "      <td>...</td>\n",
       "      <td>...</td>\n",
       "      <td>...</td>\n",
       "      <td>...</td>\n",
       "      <td>...</td>\n",
       "      <td>...</td>\n",
       "      <td>...</td>\n",
       "      <td>...</td>\n",
       "      <td>...</td>\n",
       "    </tr>\n",
       "    <tr>\n",
       "      <th>4361</th>\n",
       "      <td>65</td>\n",
       "      <td>Dec 31, 2007</td>\n",
       "      <td>Tin Can Man</td>\n",
       "      <td>$12,000</td>\n",
       "      <td>$0</td>\n",
       "      <td>$0</td>\n",
       "      <td>2007</td>\n",
       "      <td>1.584</td>\n",
       "      <td>3</td>\n",
       "      <td>False</td>\n",
       "      <td>/2YMMRWzq9SzZEYau1iAtdTPN269.jpg</td>\n",
       "      <td>157185</td>\n",
       "      <td>False</td>\n",
       "      <td>NaN</td>\n",
       "      <td>en</td>\n",
       "      <td>Tin Can Man</td>\n",
       "      <td>[27]</td>\n",
       "      <td>3.0</td>\n",
       "      <td>Recently dumped by his girlfirend for another ...</td>\n",
       "      <td>2007-01-01</td>\n",
       "    </tr>\n",
       "    <tr>\n",
       "      <th>4362</th>\n",
       "      <td>67</td>\n",
       "      <td>Apr 28, 2006</td>\n",
       "      <td>Clean</td>\n",
       "      <td>$10,000</td>\n",
       "      <td>$138,711</td>\n",
       "      <td>$138,711</td>\n",
       "      <td>2006</td>\n",
       "      <td>0.600</td>\n",
       "      <td>0</td>\n",
       "      <td>False</td>\n",
       "      <td>/kOk47vD8E0dScAyNVNCXhsncaE4.jpg</td>\n",
       "      <td>586483</td>\n",
       "      <td>False</td>\n",
       "      <td>NaN</td>\n",
       "      <td>en</td>\n",
       "      <td>Clean</td>\n",
       "      <td>[]</td>\n",
       "      <td>0.0</td>\n",
       "      <td>A dangerous serial killer decides to go out wi...</td>\n",
       "      <td>2006-03-05</td>\n",
       "    </tr>\n",
       "    <tr>\n",
       "      <th>4363</th>\n",
       "      <td>71</td>\n",
       "      <td>Aug 14, 2008</td>\n",
       "      <td>The Rise and Fall of Miss Thang</td>\n",
       "      <td>$10,000</td>\n",
       "      <td>$401</td>\n",
       "      <td>$401</td>\n",
       "      <td>2008</td>\n",
       "      <td>0.600</td>\n",
       "      <td>0</td>\n",
       "      <td>False</td>\n",
       "      <td>/2YkIO5qjfhyICn5wXhLYMJLk152.jpg</td>\n",
       "      <td>579116</td>\n",
       "      <td>False</td>\n",
       "      <td>NaN</td>\n",
       "      <td>en</td>\n",
       "      <td>The Rise and Fall of Miss Thang</td>\n",
       "      <td>[]</td>\n",
       "      <td>0.0</td>\n",
       "      <td>An irresponsible party girl begins a journey t...</td>\n",
       "      <td>2008-08-14</td>\n",
       "    </tr>\n",
       "    <tr>\n",
       "      <th>4364</th>\n",
       "      <td>75</td>\n",
       "      <td>Oct 8, 2004</td>\n",
       "      <td>Primer</td>\n",
       "      <td>$7,000</td>\n",
       "      <td>$424,760</td>\n",
       "      <td>$841,926</td>\n",
       "      <td>2004</td>\n",
       "      <td>71.750</td>\n",
       "      <td>1378</td>\n",
       "      <td>False</td>\n",
       "      <td>/xEoq2WmDzpzxhkHEsmOYOg6BPg6.jpg</td>\n",
       "      <td>14337</td>\n",
       "      <td>False</td>\n",
       "      <td>/gIFbfh9O4HBrO6numxVBxtZ9fTL.jpg</td>\n",
       "      <td>en</td>\n",
       "      <td>Primer</td>\n",
       "      <td>[18, 878, 53]</td>\n",
       "      <td>6.9</td>\n",
       "      <td>Friends and fledgling entrepreneurs invent a d...</td>\n",
       "      <td>2004-10-08</td>\n",
       "    </tr>\n",
       "    <tr>\n",
       "      <th>4365</th>\n",
       "      <td>79</td>\n",
       "      <td>Apr 2, 1999</td>\n",
       "      <td>Following</td>\n",
       "      <td>$6,000</td>\n",
       "      <td>$48,482</td>\n",
       "      <td>$240,495</td>\n",
       "      <td>1999</td>\n",
       "      <td>8.174</td>\n",
       "      <td>934</td>\n",
       "      <td>False</td>\n",
       "      <td>/lK9LE5D67HNyPlhJcjKAgnRh0OO.jpg</td>\n",
       "      <td>11660</td>\n",
       "      <td>False</td>\n",
       "      <td>/gCpl06aiAGUrPrmspeqhdKVQRT1.jpg</td>\n",
       "      <td>en</td>\n",
       "      <td>Following</td>\n",
       "      <td>[18, 53]</td>\n",
       "      <td>7.2</td>\n",
       "      <td>Bill, an idle, unemployed aspiring writer, wal...</td>\n",
       "      <td>1999-04-02</td>\n",
       "    </tr>\n",
       "  </tbody>\n",
       "</table>\n",
       "<p>4366 rows × 20 columns</p>\n",
       "</div>"
      ],
      "text/plain": [
       "      id_x release_date_x                                        title  \\\n",
       "0        1   Dec 18, 2009                                       Avatar   \n",
       "1        2   May 20, 2011  Pirates of the Caribbean: On Stranger Tides   \n",
       "2        3    Jun 7, 2019                                 Dark Phoenix   \n",
       "3        4    May 1, 2015                      Avengers: Age of Ultron   \n",
       "4        7   Apr 27, 2018                       Avengers: Infinity War   \n",
       "...    ...            ...                                          ...   \n",
       "4361    65   Dec 31, 2007                                  Tin Can Man   \n",
       "4362    67   Apr 28, 2006                                        Clean   \n",
       "4363    71   Aug 14, 2008              The Rise and Fall of Miss Thang   \n",
       "4364    75    Oct 8, 2004                                       Primer   \n",
       "4365    79    Apr 2, 1999                                    Following   \n",
       "\n",
       "     production_budget domestic_gross worldwide_gross  year  popularity  \\\n",
       "0         $425,000,000   $760,507,625  $2,776,345,279  2009      81.649   \n",
       "1         $410,600,000   $241,063,875  $1,045,663,875  2011      49.185   \n",
       "2         $350,000,000    $42,762,350    $149,762,350  2019     122.894   \n",
       "3         $330,600,000   $459,005,868  $1,403,013,963  2015      77.916   \n",
       "4         $300,000,000   $678,815,482  $2,048,134,200  2018     240.150   \n",
       "...                ...            ...             ...   ...         ...   \n",
       "4361           $12,000             $0              $0  2007       1.584   \n",
       "4362           $10,000       $138,711        $138,711  2006       0.600   \n",
       "4363           $10,000           $401            $401  2008       0.600   \n",
       "4364            $7,000       $424,760        $841,926  2004      71.750   \n",
       "4365            $6,000        $48,482        $240,495  1999       8.174   \n",
       "\n",
       "      vote_count  video                       poster_path    id_y  adult  \\\n",
       "0          22183  False  /6EiRUJpuoeQPghrs3YNktfnqOVh.jpg   19995  False   \n",
       "1          10310  False  /9zxsSzXx2UO3yNoS4j97vs4uOhc.jpg    1865  False   \n",
       "2           3997  False  /cCTJPelKGLhALq3r51A9uMonxKj.jpg  320288  False   \n",
       "3          16653  False  /4ssDuvEDkSArWEdyBl2X5EHvYKU.jpg   99861  False   \n",
       "4          19926  False  /7WsyChQLEftFiDOVTGkv3hFpyyt.jpg  299536  False   \n",
       "...          ...    ...                               ...     ...    ...   \n",
       "4361           3  False  /2YMMRWzq9SzZEYau1iAtdTPN269.jpg  157185  False   \n",
       "4362           0  False  /kOk47vD8E0dScAyNVNCXhsncaE4.jpg  586483  False   \n",
       "4363           0  False  /2YkIO5qjfhyICn5wXhLYMJLk152.jpg  579116  False   \n",
       "4364        1378  False  /xEoq2WmDzpzxhkHEsmOYOg6BPg6.jpg   14337  False   \n",
       "4365         934  False  /lK9LE5D67HNyPlhJcjKAgnRh0OO.jpg   11660  False   \n",
       "\n",
       "                         backdrop_path original_language  \\\n",
       "0     /bIL7ENqh1egWTxN41sM2W42JqPc.jpg                en   \n",
       "1     /bfTKq6mGHt2CzZlBU31JHF9bMog.jpg                en   \n",
       "2     /phxiKFDvPeQj4AbkvJLmuZEieDU.jpg                en   \n",
       "3     /8i6ZDk97Vyh0jHohMG4vFeFuKJh.jpg                en   \n",
       "4     /lmZFxXgJE3vgrciwuDib0N8CfQo.jpg                en   \n",
       "...                                ...               ...   \n",
       "4361                               NaN                en   \n",
       "4362                               NaN                en   \n",
       "4363                               NaN                en   \n",
       "4364  /gIFbfh9O4HBrO6numxVBxtZ9fTL.jpg                en   \n",
       "4365  /gCpl06aiAGUrPrmspeqhdKVQRT1.jpg                en   \n",
       "\n",
       "                                   original_title          genre_ids  \\\n",
       "0                                          Avatar  [28, 12, 14, 878]   \n",
       "1     Pirates of the Caribbean: On Stranger Tides       [28, 12, 14]   \n",
       "2                                    Dark Phoenix      [28, 12, 878]   \n",
       "3                         Avengers: Age of Ultron      [28, 12, 878]   \n",
       "4                          Avengers: Infinity War      [28, 12, 878]   \n",
       "...                                           ...                ...   \n",
       "4361                                  Tin Can Man               [27]   \n",
       "4362                                        Clean                 []   \n",
       "4363              The Rise and Fall of Miss Thang                 []   \n",
       "4364                                       Primer      [18, 878, 53]   \n",
       "4365                                    Following           [18, 53]   \n",
       "\n",
       "      vote_average                                           overview  \\\n",
       "0              7.5  In the 22nd century, a paraplegic Marine is di...   \n",
       "1              6.5  Captain Jack Sparrow crosses paths with a woma...   \n",
       "2              6.1  The X-Men face their most formidable and power...   \n",
       "3              7.3  When Tony Stark tries to jumpstart a dormant p...   \n",
       "4              8.3  As the Avengers and their allies have continue...   \n",
       "...            ...                                                ...   \n",
       "4361           3.0  Recently dumped by his girlfirend for another ...   \n",
       "4362           0.0  A dangerous serial killer decides to go out wi...   \n",
       "4363           0.0  An irresponsible party girl begins a journey t...   \n",
       "4364           6.9  Friends and fledgling entrepreneurs invent a d...   \n",
       "4365           7.2  Bill, an idle, unemployed aspiring writer, wal...   \n",
       "\n",
       "     release_date_y  \n",
       "0        2009-12-10  \n",
       "1        2011-05-14  \n",
       "2        2019-06-05  \n",
       "3        2015-04-22  \n",
       "4        2018-04-25  \n",
       "...             ...  \n",
       "4361     2007-01-01  \n",
       "4362     2006-03-05  \n",
       "4363     2008-08-14  \n",
       "4364     2004-10-08  \n",
       "4365     1999-04-02  \n",
       "\n",
       "[4366 rows x 20 columns]"
      ]
     },
     "execution_count": 65,
     "metadata": {},
     "output_type": "execute_result"
    }
   ],
   "source": [
    "temp_df2"
   ]
  },
  {
   "cell_type": "code",
   "execution_count": 68,
   "metadata": {},
   "outputs": [],
   "source": [
    "response = requests.get(f\"https://api.themoviedb.org/3/genre/movie/list?api_key={tmdb_api_key}&language=en-US\")"
   ]
  },
  {
   "cell_type": "code",
   "execution_count": 73,
   "metadata": {},
   "outputs": [
    {
     "data": {
      "text/plain": [
       "19"
      ]
     },
     "execution_count": 73,
     "metadata": {},
     "output_type": "execute_result"
    }
   ],
   "source": [
    "len(response.json()[\"genres\"])"
   ]
  },
  {
   "cell_type": "code",
   "execution_count": 79,
   "metadata": {},
   "outputs": [],
   "source": [
    "genres = {}\n",
    "for genre in response.json()[\"genres\"]:\n",
    "    genres[str(genre[\"id\"])] = genre[\"name\"]"
   ]
  },
  {
   "cell_type": "code",
   "execution_count": 80,
   "metadata": {},
   "outputs": [
    {
     "data": {
      "text/plain": [
       "{'28': 'Action',\n",
       " '12': 'Adventure',\n",
       " '16': 'Animation',\n",
       " '35': 'Comedy',\n",
       " '80': 'Crime',\n",
       " '99': 'Documentary',\n",
       " '18': 'Drama',\n",
       " '10751': 'Family',\n",
       " '14': 'Fantasy',\n",
       " '36': 'History',\n",
       " '27': 'Horror',\n",
       " '10402': 'Music',\n",
       " '9648': 'Mystery',\n",
       " '10749': 'Romance',\n",
       " '878': 'Science Fiction',\n",
       " '10770': 'TV Movie',\n",
       " '53': 'Thriller',\n",
       " '10752': 'War',\n",
       " '37': 'Western'}"
      ]
     },
     "execution_count": 80,
     "metadata": {},
     "output_type": "execute_result"
    }
   ],
   "source": []
  },
  {
   "cell_type": "code",
   "execution_count": null,
   "metadata": {},
   "outputs": [],
   "source": []
  },
  {
   "cell_type": "code",
   "execution_count": 98,
   "metadata": {},
   "outputs": [],
   "source": [
    "temp_df2[\"genre_names\"] = temp_df2[\"genre_ids\"].map(lambda x: x.strip(\"][\").split(\", \"))"
   ]
  },
  {
   "cell_type": "code",
   "execution_count": 99,
   "metadata": {},
   "outputs": [],
   "source": [
    "def get_genre_names(genre_list):\n",
    "    #separate_genres = genre_list.strip(\"][\").split(\", \")\n",
    "    genre_names = [genres[x] for x in genre_list]\n",
    "    return \", \".join(genre_names)\n",
    "    "
   ]
  },
  {
   "cell_type": "code",
   "execution_count": 100,
   "metadata": {
    "scrolled": true
   },
   "outputs": [
    {
     "data": {
      "text/plain": [
       "'Action, Adventure, Fantasy, Science Fiction'"
      ]
     },
     "execution_count": 100,
     "metadata": {},
     "output_type": "execute_result"
    }
   ],
   "source": [
    "get_genre_names(temp_df2[\"genre_names\"][0])"
   ]
  },
  {
   "cell_type": "code",
   "execution_count": 103,
   "metadata": {},
   "outputs": [],
   "source": [
    "for key, value in genres.items():\n",
    "    temp_df2[value] = temp_df2[\"genre_ids\"].map(lambda x: key in x)"
   ]
  },
  {
   "cell_type": "code",
   "execution_count": 123,
   "metadata": {},
   "outputs": [
    {
     "data": {
      "text/plain": [
       "(4366, 41)"
      ]
     },
     "execution_count": 123,
     "metadata": {},
     "output_type": "execute_result"
    }
   ],
   "source": [
    "temp_df2.shape"
   ]
  },
  {
   "cell_type": "code",
   "execution_count": 128,
   "metadata": {},
   "outputs": [],
   "source": [
    "no_genres = temp_df2[temp_df2[\"genre_ids\"] == \"[]\"].index"
   ]
  },
  {
   "cell_type": "code",
   "execution_count": 130,
   "metadata": {},
   "outputs": [
    {
     "data": {
      "text/plain": [
       "[1350,\n",
       " 2779,\n",
       " 3595,\n",
       " 3937,\n",
       " 4052,\n",
       " 4102,\n",
       " 4116,\n",
       " 4117,\n",
       " 4181,\n",
       " 4221,\n",
       " 4229,\n",
       " 4246,\n",
       " 4250,\n",
       " 4255,\n",
       " 4287,\n",
       " 4293,\n",
       " 4348,\n",
       " 4360,\n",
       " 4362,\n",
       " 4363]"
      ]
     },
     "execution_count": 130,
     "metadata": {},
     "output_type": "execute_result"
    }
   ],
   "source": [
    "list(no_genres)"
   ]
  },
  {
   "cell_type": "code",
   "execution_count": 131,
   "metadata": {},
   "outputs": [],
   "source": [
    "clean_df_v3 = temp_df2.drop(index = list(no_genres))"
   ]
  },
  {
   "cell_type": "code",
   "execution_count": 133,
   "metadata": {},
   "outputs": [],
   "source": [
    "no_gross = clean_df_v3[clean_df_v3[\"worldwide_gross\"] == \"$0\"].index"
   ]
  },
  {
   "cell_type": "code",
   "execution_count": 135,
   "metadata": {},
   "outputs": [],
   "source": [
    "clean_df_v4 = clean_df_v3.drop(index = list(no_gross))"
   ]
  },
  {
   "cell_type": "code",
   "execution_count": 148,
   "metadata": {},
   "outputs": [
    {
     "data": {
      "text/plain": [
       "False    4165\n",
       "True        1\n",
       "Name: video, dtype: int64"
      ]
     },
     "execution_count": 148,
     "metadata": {},
     "output_type": "execute_result"
    }
   ],
   "source": []
  },
  {
   "cell_type": "code",
   "execution_count": 145,
   "metadata": {},
   "outputs": [
    {
     "data": {
      "text/plain": [
       "Index(['id_x', 'release_date_x', 'title', 'production_budget',\n",
       "       'domestic_gross', 'worldwide_gross', 'year', 'popularity', 'vote_count',\n",
       "       'video', 'poster_path', 'id_y', 'adult', 'backdrop_path',\n",
       "       'original_language', 'original_title', 'genre_ids', 'vote_average',\n",
       "       'overview', 'release_date_y', 'genre_names', 'value', 'Action',\n",
       "       'Adventure', 'Animation', 'Comedy', 'Crime', 'Documentary', 'Drama',\n",
       "       'Family', 'Fantasy', 'History', 'Horror', 'Music', 'Mystery', 'Romance',\n",
       "       'Science Fiction', 'TV Movie', 'Thriller', 'War', 'Western'],\n",
       "      dtype='object')"
      ]
     },
     "execution_count": 145,
     "metadata": {},
     "output_type": "execute_result"
    }
   ],
   "source": [
    "clean_df_v4.columns"
   ]
  },
  {
   "cell_type": "code",
   "execution_count": 149,
   "metadata": {},
   "outputs": [],
   "source": [
    "clean_df_v5 = clean_df_v4.drop(columns = [\"id_x\", \"release_date_x\", \"id_y\", \"poster_path\", \"adult\", \"backdrop_path\", \"genre_names\", \"value\" ])"
   ]
  },
  {
   "cell_type": "code",
   "execution_count": 154,
   "metadata": {},
   "outputs": [],
   "source": [
    "clean_df_v5['production_budget'] = clean_df_v5['production_budget'].map(lambda x: int(str(x).strip(\"$\").replace(',', '')))\n",
    "clean_df_v5['domestic_gross'] = clean_df_v5['domestic_gross'].map(lambda x: int(str(x).strip(\"$\").replace(',', '')))\n",
    "clean_df_v5['worldwide_gross'] = clean_df_v5['worldwide_gross'].map(lambda x: int(str(x).strip(\"$\").replace(',', '')))"
   ]
  },
  {
   "cell_type": "code",
   "execution_count": 160,
   "metadata": {},
   "outputs": [],
   "source": [
    "clean_df_v5['worldwide_profit(loss)'] = clean_df_v5['worldwide_gross'] - clean_df_v5['production_budget']"
   ]
  },
  {
   "cell_type": "code",
   "execution_count": 162,
   "metadata": {},
   "outputs": [],
   "source": [
    "clean_df_v5.drop(columns = \"worldwide_profit\", inplace = True)"
   ]
  },
  {
   "cell_type": "code",
   "execution_count": 163,
   "metadata": {},
   "outputs": [],
   "source": [
    "clean_df_v5['ROI'] = clean_df_v5['worldwide_profit(loss)'] / clean_df_v5['production_budget']"
   ]
  },
  {
   "cell_type": "code",
   "execution_count": 176,
   "metadata": {},
   "outputs": [],
   "source": [
    "clean_df_v5[\"month\"] = clean_df_v5[\"release_date_y\"].map(lambda x: int(x.split(\"-\")[1]))"
   ]
  },
  {
   "cell_type": "code",
   "execution_count": 177,
   "metadata": {},
   "outputs": [],
   "source": [
    "clean_df_v5[\"day\"] = clean_df_v5[\"release_date_y\"].map(lambda x: int(x.split(\"-\")[2]))"
   ]
  },
  {
   "cell_type": "code",
   "execution_count": 180,
   "metadata": {},
   "outputs": [],
   "source": [
    "clean_df_v5[\"year\"] = clean_df_v5[\"year\"].map(int)"
   ]
  },
  {
   "cell_type": "code",
   "execution_count": 183,
   "metadata": {},
   "outputs": [],
   "source": [
    "clean_df_v5.rename(columns = {\"release_date_y\": \"release_date\"}, inplace = True)"
   ]
  },
  {
   "cell_type": "code",
   "execution_count": 193,
   "metadata": {},
   "outputs": [],
   "source": [
    "new_cols = {}\n",
    "for name in clean_df_v5.columns:\n",
    "    new_cols[name] = name.lower().replace(\" \", \"_\")"
   ]
  },
  {
   "cell_type": "code",
   "execution_count": 195,
   "metadata": {},
   "outputs": [],
   "source": [
    "clean_df_v5.rename(columns = new_cols, inplace = True)"
   ]
  },
  {
   "cell_type": "code",
   "execution_count": 197,
   "metadata": {},
   "outputs": [
    {
     "data": {
      "text/plain": [
       "Index(['title', 'production_budget', 'domestic_gross', 'worldwide_gross',\n",
       "       'year', 'popularity', 'vote_count', 'video', 'original_language',\n",
       "       'original_title', 'genre_ids', 'vote_average', 'overview',\n",
       "       'release_date', 'action', 'adventure', 'animation', 'comedy', 'crime',\n",
       "       'documentary', 'drama', 'family', 'fantasy', 'history', 'horror',\n",
       "       'music', 'mystery', 'romance', 'science_fiction', 'tv_movie',\n",
       "       'thriller', 'war', 'western', 'worldwide_profit(loss)', 'roi', 'month',\n",
       "       'day'],\n",
       "      dtype='object')"
      ]
     },
     "execution_count": 197,
     "metadata": {},
     "output_type": "execute_result"
    }
   ],
   "source": [
    "clean_df_v5.columns"
   ]
  },
  {
   "cell_type": "code",
   "execution_count": 224,
   "metadata": {},
   "outputs": [],
   "source": [
    "clean_df_v6 = clean_df_v5[['title','original_title', 'year', 'month', 'day', 'release_date', 'production_budget', 'domestic_gross', 'worldwide_gross', \n",
    "                           'worldwide_profit(loss)', 'roi', 'popularity', 'vote_count', 'vote_average', 'video', 'original_language', 'genre_ids',\n",
    "        'action', 'adventure', 'animation', 'comedy', 'crime',\n",
    "       'documentary', 'drama', 'family', 'fantasy', 'history', 'horror',\n",
    "       'music', 'mystery', 'romance', 'science_fiction', 'tv_movie',\n",
    "       'thriller', 'war', 'western', 'overview']]"
   ]
  },
  {
   "cell_type": "code",
   "execution_count": 225,
   "metadata": {},
   "outputs": [],
   "source": [
    "clean_df_v6.drop(columns = \"video\", inplace = True)"
   ]
  },
  {
   "cell_type": "code",
   "execution_count": 226,
   "metadata": {},
   "outputs": [],
   "source": [
    "series = clean_df_v6.duplicated()\n",
    "duplicates = clean_df_v6[series].index"
   ]
  },
  {
   "cell_type": "code",
   "execution_count": 227,
   "metadata": {},
   "outputs": [],
   "source": [
    "clean_df_v7 = clean_df_v6.drop(index = list(duplicates))"
   ]
  },
  {
   "cell_type": "code",
   "execution_count": 232,
   "metadata": {},
   "outputs": [],
   "source": [
    "clean_df_v7.to_csv(\"cleaned_data.csv\")"
   ]
  }
 ],
 "metadata": {
  "kernelspec": {
   "display_name": "Python 3",
   "language": "python",
   "name": "python3"
  },
  "language_info": {
   "codemirror_mode": {
    "name": "ipython",
    "version": 3
   },
   "file_extension": ".py",
   "mimetype": "text/x-python",
   "name": "python",
   "nbconvert_exporter": "python",
   "pygments_lexer": "ipython3",
   "version": "3.6.9"
  }
 },
 "nbformat": 4,
 "nbformat_minor": 4
}
